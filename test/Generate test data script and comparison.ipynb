{
 "cells": [
  {
   "cell_type": "markdown",
   "id": "ade13c5a",
   "metadata": {},
   "source": [
    "# Generate test data script\n",
    "This python script generate two test files short read (300 nucleotides (NT)) and long read (~700 NT) which contain ratio of 30% WT, 20% 6 (NT) insertion, 30% 4 NT insertion and 20 % 5NT deletion. We use these files to validate CRISPRnano and Outknocker"
   ]
  },
  {
   "cell_type": "code",
   "execution_count": 1,
   "id": "84260b59",
   "metadata": {},
   "outputs": [],
   "source": [
    "from Bio import SeqIO\n",
    "# Get reference gene, any gene, in this test we use HIF1A gene\n",
    "ref_test = list(SeqIO.parse('/home/ag-rossi/ReferenceData/HIF1A.fa', format='fasta'))[0]"
   ]
  },
  {
   "cell_type": "markdown",
   "id": "186a5819",
   "metadata": {},
   "source": [
    "### Generate long read test data."
   ]
  },
  {
   "cell_type": "code",
   "execution_count": 2,
   "id": "1cd71ad0",
   "metadata": {},
   "outputs": [],
   "source": [
    "wt_long = ref_test[1100:1800]\n",
    "insert1 = ref_test[1100:1400]+'AATGGG'+ref_test[1400:1800]\n",
    "insert2 = ref_test[1100:1410]+'TTTA'+ref_test[1410:1800]\n",
    "del1 = ref_test[1100:1405]+ref_test[1410:1800]\n",
    "\n",
    "fq_long_path ='long_test.fastq'\n",
    "with open(fq_long_path, \"w\") as fastq:\n",
    "    for i in range(300):\n",
    "        record = wt_long\n",
    "        record.letter_annotations[\"phred_quality\"] = [40] * len(record)\n",
    "        SeqIO.write(record, fastq, \"fastq\")\n",
    "    for i in range(200):\n",
    "        record = insert1\n",
    "        record.letter_annotations[\"phred_quality\"] = [40] * len(record)\n",
    "        SeqIO.write(record, fastq, \"fastq\")\n",
    "    for i in range(300):\n",
    "        record = insert2\n",
    "        record.letter_annotations[\"phred_quality\"] = [40] * len(record)\n",
    "        SeqIO.write(record, fastq, \"fastq\")\n",
    "    for i in range(200):\n",
    "        record = del1\n",
    "        record.letter_annotations[\"phred_quality\"] = [40] * len(record)\n",
    "        SeqIO.write(record, fastq, \"fastq\")"
   ]
  },
  {
   "cell_type": "code",
   "execution_count": 3,
   "id": "2d3aa028",
   "metadata": {},
   "outputs": [],
   "source": [
    "wt = ref_test[1200:1500]\n",
    "insert1 = ref_test[1200:1400]+'AATGGG'+ref_test[1400:1500]\n",
    "insert2 = ref_test[1200:1410]+'TTTA'+ref_test[1410:1500]\n",
    "del1 = ref_test[1200:1405]+ref_test[1410:1500]\n",
    "\n",
    "fq_long_path ='short_test.fastq'\n",
    "with open(fq_long_path, \"w\") as fastq:\n",
    "    for i in range(300):\n",
    "        record = wt\n",
    "        record.letter_annotations[\"phred_quality\"] = [40] * len(record)\n",
    "        SeqIO.write(record, fastq, \"fastq\")\n",
    "    for i in range(200):\n",
    "        record = insert1\n",
    "        record.letter_annotations[\"phred_quality\"] = [40] * len(record)\n",
    "        SeqIO.write(record, fastq, \"fastq\")\n",
    "    for i in range(300):\n",
    "        record = insert2\n",
    "        record.letter_annotations[\"phred_quality\"] = [40] * len(record)\n",
    "        SeqIO.write(record, fastq, \"fastq\")\n",
    "    for i in range(200):\n",
    "        record = del1\n",
    "        record.letter_annotations[\"phred_quality\"] = [40] * len(record)\n",
    "        SeqIO.write(record, fastq, \"fastq\")"
   ]
  },
  {
   "cell_type": "markdown",
   "id": "73aeedcc",
   "metadata": {},
   "source": [
    "We can use reference and gRNA below to test CRISPRnano and Outknocker"
   ]
  },
  {
   "cell_type": "code",
   "execution_count": 4,
   "id": "11b36b00",
   "metadata": {
    "scrolled": true
   },
   "outputs": [
    {
     "name": "stdout",
     "output_type": "stream",
     "text": [
      "Reference\n",
      " GATACTGAAAAAAGTATATGATGAGTGAATGAAATGCGGCACTAAAATGTTGCAAAAATTTTCGAACTCTGTCTCATTTTCCTGAAATTGAAGTATATTAAAGGAAAACCGTCAACATATATCTAAAGTAAGTAATCACTCGGTTAGAACTTAATGCAAGTTTTATAAATCACCTTGAAGTTTGAGTCTAAGGGGTACATTAGAGATTAAGAATTGTGAGTTGGACCAGTGGTGTTAAGAGCGGACTCCCCCATCCCCCAACACACACACAATTTTGCCCACTTTGGCATTTTAACTTTTAAGGAAATCACTTAAGGAATTGAAGATTTAGAGTAAGAGTTTTGGTTAGTAGACTGGCTTTGCTGTTAAATCCTTCCACTCTTCTGGCAGAGAGATTAAT\n"
     ]
    }
   ],
   "source": [
    "#Use this reference sequence\n",
    "print('Reference\\n', wt_long.seq[100:500])"
   ]
  },
  {
   "cell_type": "code",
   "execution_count": 5,
   "id": "4499f246",
   "metadata": {},
   "outputs": [
    {
     "name": "stdout",
     "output_type": "stream",
     "text": [
      "gRNA\n",
      " TAGAGATTAAGAATTGTGAG\n"
     ]
    }
   ],
   "source": [
    "#gRNA\n",
    "print('gRNA\\n', ref_test.seq[1400:1420])"
   ]
  },
  {
   "cell_type": "markdown",
   "id": "8ff3a7ba",
   "metadata": {},
   "source": [
    "Our result show alignment track and indel size and ratio are correct. Outknocker only works for short read test data."
   ]
  },
  {
   "cell_type": "markdown",
   "id": "2c44674a",
   "metadata": {},
   "source": [
    "#![CRISPRnano results](Crisprnano.png)\n",
    "<br>\n",
    "<br>\n",
    "**CRISPRnano test data results**"
   ]
  },
  {
   "cell_type": "markdown",
   "id": "ad03d288",
   "metadata": {},
   "source": [
    "#![Outknocker results](Outknocker.png)\n",
    "<br>\n",
    "<br>\n",
    "\n",
    "\n",
    "**Outknocker test data results**"
   ]
  }
 ],
 "metadata": {
  "kernelspec": {
   "display_name": "Python 3 (ipykernel)",
   "language": "python",
   "name": "python3"
  },
  "language_info": {
   "codemirror_mode": {
    "name": "ipython",
    "version": 3
   },
   "file_extension": ".py",
   "mimetype": "text/x-python",
   "name": "python",
   "nbconvert_exporter": "python",
   "pygments_lexer": "ipython3",
   "version": "3.8.10"
  }
 },
 "nbformat": 4,
 "nbformat_minor": 5
}
