{
 "cells": [
  {
   "cell_type": "markdown",
   "id": "e97d8e63",
   "metadata": {},
   "source": [
    "# CRISPR validation script\n",
    "## dataset KEAP1\n",
    "Author: Thach Nguyen <br>\n",
    "Date: 3rd Jan 2022 <br>\n"
   ]
  },
  {
   "cell_type": "code",
   "execution_count": null,
   "id": "c78036bb",
   "metadata": {},
   "outputs": [],
   "source": [
    "# Align fastq to reference \n",
    "We use minimap2 to align fastq to reference genome. "
   ]
  },
  {
   "cell_type": "code",
   "execution_count": 1,
   "id": "74d7290b",
   "metadata": {},
   "outputs": [
    {
     "name": "stdout",
     "output_type": "stream",
     "text": [
      "[M::mm_idx_gen::0.001*1.81] collected minimizers\n",
      "[M::mm_idx_gen::0.002*5.31] sorted minimizers\n",
      "[M::main::0.002*5.28] loaded/built the index for 1 target sequence(s)\n",
      "[M::mm_mapopt_update::0.003*4.81] mid_occ = 23\n",
      "[M::mm_idx_stat] kmer size: 15; skip: 10; is_hpc: 0; #seq: 1\n",
      "[M::mm_idx_stat::0.003*4.58] distinct minimizers: 2869 (92.82% are singletons); average occurrences: 1.167; average spacing: 5.205; total length: 17433\n",
      "[M::worker_pipeline::0.041*9.14] mapped 504 sequences\n",
      "[M::main] Version: 2.22-r1101\n",
      "[M::main] CMD: minimap2 -t 16 -ax map-ont --secondary=no KEAP1.fa KEAP1/rep1_wt.fastq\n",
      "[M::main] Real time: 0.042 sec; CPU: 0.373 sec; Peak RSS: 0.034 GB\n",
      "[M::mm_idx_gen::0.001*1.78] collected minimizers\n",
      "[M::mm_idx_gen::0.003*5.72] sorted minimizers\n",
      "[M::main::0.003*5.69] loaded/built the index for 1 target sequence(s)\n",
      "[M::mm_mapopt_update::0.003*5.24] mid_occ = 23\n",
      "[M::mm_idx_stat] kmer size: 15; skip: 10; is_hpc: 0; #seq: 1\n",
      "[M::mm_idx_stat::0.003*5.02] distinct minimizers: 2869 (92.82% are singletons); average occurrences: 1.167; average spacing: 5.205; total length: 17433\n",
      "[M::worker_pipeline::0.069*10.35] mapped 800 sequences\n",
      "[M::main] Version: 2.22-r1101\n",
      "[M::main] CMD: minimap2 -t 16 -ax map-ont --secondary=no KEAP1.fa KEAP1/rep2_hets.fastq\n",
      "[M::main] Real time: 0.070 sec; CPU: 0.714 sec; Peak RSS: 0.043 GB\n",
      "[M::mm_idx_gen::0.002*1.81] collected minimizers\n",
      "[M::mm_idx_gen::0.003*4.92] sorted minimizers\n",
      "[M::main::0.003*4.89] loaded/built the index for 1 target sequence(s)\n",
      "[M::mm_mapopt_update::0.003*4.53] mid_occ = 23\n",
      "[M::mm_idx_stat] kmer size: 15; skip: 10; is_hpc: 0; #seq: 1\n",
      "[M::mm_idx_stat::0.003*4.34] distinct minimizers: 2869 (92.82% are singletons); average occurrences: 1.167; average spacing: 5.205; total length: 17433\n",
      "[M::worker_pipeline::0.070*10.46] mapped 800 sequences\n",
      "[M::main] Version: 2.22-r1101\n",
      "[M::main] CMD: minimap2 -t 16 -ax map-ont --secondary=no KEAP1.fa KEAP1/rep3_mt.fastq\n",
      "[M::main] Real time: 0.071 sec; CPU: 0.730 sec; Peak RSS: 0.046 GB\n"
     ]
    }
   ],
   "source": [
    "!minimap2 -t 16 -ax map-ont --secondary=no KEAP1.fa KEAP1/rep1_wt.fastq| samtools view -Sb | samtools sort - -o BAMs/rep0.bam\n",
    "!minimap2 -t 16 -ax map-ont --secondary=no KEAP1.fa KEAP1/rep2_hets.fastq| samtools view -Sb | samtools sort - -o BAMs/rep1.bam\n",
    "!minimap2 -t 16 -ax map-ont --secondary=no KEAP1.fa KEAP1/rep3_mt.fastq| samtools view -Sb | samtools sort - -o BAMs/rep2.bam"
   ]
  },
  {
   "cell_type": "code",
   "execution_count": 2,
   "id": "7e44fa7b",
   "metadata": {},
   "outputs": [],
   "source": [
    "!samtools index BAMs/rep0.bam \n",
    "!samtools index BAMs/rep1.bam\n",
    "!samtools index BAMs/rep2.bam"
   ]
  },
  {
   "cell_type": "code",
   "execution_count": null,
   "id": "94107772",
   "metadata": {},
   "outputs": [],
   "source": []
  },
  {
   "cell_type": "code",
   "execution_count": null,
   "id": "bf26aae9",
   "metadata": {},
   "outputs": [],
   "source": []
  },
  {
   "cell_type": "code",
   "execution_count": null,
   "id": "53c47863",
   "metadata": {},
   "outputs": [],
   "source": []
  },
  {
   "cell_type": "code",
   "execution_count": null,
   "id": "c5550b71",
   "metadata": {},
   "outputs": [],
   "source": []
  }
 ],
 "metadata": {
  "kernelspec": {
   "display_name": "Python 3 (ipykernel)",
   "language": "python",
   "name": "python3"
  },
  "language_info": {
   "codemirror_mode": {
    "name": "ipython",
    "version": 3
   },
   "file_extension": ".py",
   "mimetype": "text/x-python",
   "name": "python",
   "nbconvert_exporter": "python",
   "pygments_lexer": "ipython3",
   "version": "3.8.10"
  }
 },
 "nbformat": 4,
 "nbformat_minor": 5
}
