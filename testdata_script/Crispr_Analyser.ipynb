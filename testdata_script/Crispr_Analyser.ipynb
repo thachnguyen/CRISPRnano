{
 "cells": [
  {
   "cell_type": "markdown",
   "id": "e97d8e63",
   "metadata": {},
   "source": [
    "# CRISPR validation script\n",
    "## dataset KEAP1\n",
    "Author: Thach Nguyen <br>\n",
    "Date: 3rd Jan 2022 <br>\n"
   ]
  },
  {
   "cell_type": "code",
   "execution_count": null,
   "id": "c78036bb",
   "metadata": {},
   "outputs": [],
   "source": [
    "# Align fastq to reference \n",
    "We use minimap2 to align fastq to reference genome. "
   ]
  },
  {
   "cell_type": "code",
   "execution_count": 4,
   "id": "74d7290b",
   "metadata": {},
   "outputs": [
    {
     "name": "stdout",
     "output_type": "stream",
     "text": [
      "[M::mm_idx_gen::0.002*1.82] collected minimizers\n",
      "[M::mm_idx_gen::0.003*5.59] sorted minimizers\n",
      "[M::main::0.003*5.55] loaded/built the index for 1 target sequence(s)\n",
      "[M::mm_mapopt_update::0.003*5.07] mid_occ = 23\n",
      "[M::mm_idx_stat] kmer size: 15; skip: 10; is_hpc: 0; #seq: 1\n",
      "[M::mm_idx_stat::0.003*4.82] distinct minimizers: 2869 (92.82% are singletons); average occurrences: 1.167; average spacing: 5.205; total length: 17433\n",
      "[M::worker_pipeline::0.068*10.42] mapped 800 sequences\n",
      "[M::main] Version: 2.22-r1101\n",
      "[M::main] CMD: minimap2 -t 16 -ax map-ont --secondary=no KEAP1.fa KEAP1/rep_0_test_800.fastq\n",
      "[M::main] Real time: 0.069 sec; CPU: 0.708 sec; Peak RSS: 0.046 GB\n",
      "[M::mm_idx_gen::0.002*1.92] collected minimizers\n",
      "[M::mm_idx_gen::0.003*5.60] sorted minimizers\n",
      "[M::main::0.003*5.56] loaded/built the index for 1 target sequence(s)\n",
      "[M::mm_mapopt_update::0.003*5.12] mid_occ = 23\n",
      "[M::mm_idx_stat] kmer size: 15; skip: 10; is_hpc: 0; #seq: 1\n",
      "[M::mm_idx_stat::0.003*4.91] distinct minimizers: 2869 (92.82% are singletons); average occurrences: 1.167; average spacing: 5.205; total length: 17433\n",
      "[M::worker_pipeline::0.036*9.99] mapped 400 sequences\n",
      "[M::main] Version: 2.22-r1101\n",
      "[M::main] CMD: minimap2 -t 16 -ax map-ont --secondary=no KEAP1.fa KEAP1/rep_1_test_400.fastq\n",
      "[M::main] Real time: 0.037 sec; CPU: 0.358 sec; Peak RSS: 0.038 GB\n",
      "[M::mm_idx_gen::0.001*1.95] collected minimizers\n",
      "[M::mm_idx_gen::0.002*5.86] sorted minimizers\n",
      "[M::main::0.002*5.83] loaded/built the index for 1 target sequence(s)\n",
      "[M::mm_mapopt_update::0.003*5.32] mid_occ = 23\n",
      "[M::mm_idx_stat] kmer size: 15; skip: 10; is_hpc: 0; #seq: 1\n",
      "[M::mm_idx_stat::0.003*5.06] distinct minimizers: 2869 (92.82% are singletons); average occurrences: 1.167; average spacing: 5.205; total length: 17433\n",
      "[M::worker_pipeline::0.069*10.30] mapped 800 sequences\n",
      "[M::main] Version: 2.22-r1101\n",
      "[M::main] CMD: minimap2 -t 16 -ax map-ont --secondary=no KEAP1.fa KEAP1/rep_3_test_800.fastq\n",
      "[M::main] Real time: 0.070 sec; CPU: 0.708 sec; Peak RSS: 0.042 GB\n"
     ]
    }
   ],
   "source": [
    "!minimap2 -t 16 -ax map-ont --secondary=no KEAP1.fa KEAP1/rep_0_test_800.fastq| samtools view -Sb | samtools sort - -o BAMs/rep0.bam\n",
    "!minimap2 -t 16 -ax map-ont --secondary=no KEAP1.fa KEAP1/rep_1_test_400.fastq| samtools view -Sb | samtools sort - -o BAMs/rep1.bam\n",
    "!minimap2 -t 16 -ax map-ont --secondary=no KEAP1.fa KEAP1/rep_3_test_800.fastq| samtools view -Sb | samtools sort - -o BAMs/rep2.bam"
   ]
  },
  {
   "cell_type": "code",
   "execution_count": 7,
   "id": "7e44fa7b",
   "metadata": {},
   "outputs": [],
   "source": [
    "!samtools index BAMs/rep0.bam \n",
    "!samtools index BAMs/rep1.bam\n",
    "!samtools index BAMs/rep2.bam"
   ]
  },
  {
   "cell_type": "code",
   "execution_count": null,
   "id": "94107772",
   "metadata": {},
   "outputs": [],
   "source": []
  },
  {
   "cell_type": "code",
   "execution_count": null,
   "id": "bf26aae9",
   "metadata": {},
   "outputs": [],
   "source": []
  },
  {
   "cell_type": "code",
   "execution_count": null,
   "id": "53c47863",
   "metadata": {},
   "outputs": [],
   "source": []
  },
  {
   "cell_type": "code",
   "execution_count": null,
   "id": "c5550b71",
   "metadata": {},
   "outputs": [],
   "source": []
  }
 ],
 "metadata": {
  "kernelspec": {
   "display_name": "Python 3 (ipykernel)",
   "language": "python",
   "name": "python3"
  },
  "language_info": {
   "codemirror_mode": {
    "name": "ipython",
    "version": 3
   },
   "file_extension": ".py",
   "mimetype": "text/x-python",
   "name": "python",
   "nbconvert_exporter": "python",
   "pygments_lexer": "ipython3",
   "version": "3.8.10"
  }
 },
 "nbformat": 4,
 "nbformat_minor": 5
}
